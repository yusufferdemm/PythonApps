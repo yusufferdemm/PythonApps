{
 "cells": [
  {
   "cell_type": "code",
   "execution_count": 1,
   "id": "ba0ba1cc",
   "metadata": {},
   "outputs": [
    {
     "name": "stdout",
     "output_type": "stream",
     "text": [
      "[[5, 6, 7], [3, 4], [1, 2]]\n",
      "[[7, 6, 5], [4, 3], [2, 1]]\n"
     ]
    },
    {
     "data": {
      "text/plain": [
       "[[7, 6, 5], [4, 3], [2, 1]]"
      ]
     },
     "execution_count": 1,
     "metadata": {},
     "output_type": "execute_result"
    }
   ],
   "source": [
    "def reverse(liste):\n",
    "    ters_liste=[]\n",
    "    ters_elemanli_liste=[] \n",
    "    \n",
    "    a=len(liste)\n",
    "    for i in liste:\n",
    "        \n",
    "        ters_liste.append(liste[a-1])\n",
    "        a-=1\n",
    "    print(ters_liste)\n",
    "    for i in ters_liste:\n",
    "        i=i[::-1]\n",
    "        ters_elemanli_liste.append(i)\n",
    "    print(ters_elemanli_liste)\n",
    "    \n",
    "    return ters_elemanli_liste\n",
    "    \n",
    "\n",
    "\n",
    "\n",
    "\n",
    "\n",
    "\n",
    "\n",
    "a= [[1, 2], [3, 4], [5, 6, 7]]\n",
    "reverse(a)"
   ]
  },
  {
   "cell_type": "code",
   "execution_count": null,
   "id": "a4306e10",
   "metadata": {},
   "outputs": [],
   "source": []
  }
 ],
 "metadata": {
  "kernelspec": {
   "display_name": "Python 3",
   "language": "python",
   "name": "python3"
  },
  "language_info": {
   "codemirror_mode": {
    "name": "ipython",
    "version": 3
   },
   "file_extension": ".py",
   "mimetype": "text/x-python",
   "name": "python",
   "nbconvert_exporter": "python",
   "pygments_lexer": "ipython3",
   "version": "3.9.3"
  },
  "toc": {
   "base_numbering": 1,
   "nav_menu": {},
   "number_sections": false,
   "sideBar": false,
   "skip_h1_title": false,
   "title_cell": "Table of Contents",
   "title_sidebar": "Contents",
   "toc_cell": false,
   "toc_position": {},
   "toc_section_display": true,
   "toc_window_display": false
  }
 },
 "nbformat": 4,
 "nbformat_minor": 5
}
